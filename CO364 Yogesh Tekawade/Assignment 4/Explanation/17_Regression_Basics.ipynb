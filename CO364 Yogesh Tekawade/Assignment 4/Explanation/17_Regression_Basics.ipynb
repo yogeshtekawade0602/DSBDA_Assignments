{
 "cells": [
  {
   "cell_type": "code",
   "execution_count": 2,
   "id": "055dab23",
   "metadata": {},
   "outputs": [],
   "source": [
    "ht=[[151],[174],[138],[186],[128],[136],[179],[163],[152],[131]]\n",
    "wt=[[63],[81],[56],[91],[47],[57],[76],[72],[62],[48]]"
   ]
  },
  {
   "cell_type": "code",
   "execution_count": 3,
   "id": "952d65df",
   "metadata": {},
   "outputs": [],
   "source": [
    "import matplotlib.pyplot as plt"
   ]
  },
  {
   "cell_type": "raw",
   "id": "7cbab50a",
   "metadata": {},
   "source": [
    "### check the relationship of height vs weight\n",
    "# feature == column\n",
    "# height: input/independant variable/predictor/feature\n",
    "# weight: output/dependant variable/class"
   ]
  },
  {
   "cell_type": "markdown",
   "id": "fb886654",
   "metadata": {},
   "source": [
    "# Problem statement: Create a regression model for prediction of  weight on the basis of height"
   ]
  },
  {
   "cell_type": "code",
   "execution_count": 4,
   "id": "6104ba43",
   "metadata": {},
   "outputs": [
    {
     "data": {
      "text/plain": [
       "[[151], [174], [138], [186], [128], [136], [179], [163], [152], [131]]"
      ]
     },
     "execution_count": 4,
     "metadata": {},
     "output_type": "execute_result"
    }
   ],
   "source": [
    "ht #input"
   ]
  },
  {
   "cell_type": "code",
   "execution_count": 5,
   "id": "0db3c660",
   "metadata": {},
   "outputs": [
    {
     "data": {
      "text/plain": [
       "[[63], [81], [56], [91], [47], [57], [76], [72], [62], [48]]"
      ]
     },
     "execution_count": 5,
     "metadata": {},
     "output_type": "execute_result"
    }
   ],
   "source": [
    "wt #output"
   ]
  },
  {
   "cell_type": "code",
   "execution_count": 7,
   "id": "53f2bfa6",
   "metadata": {},
   "outputs": [
    {
     "data": {
      "text/plain": [
       "[<matplotlib.lines.Line2D at 0x1bb874a8250>]"
      ]
     },
     "execution_count": 7,
     "metadata": {},
     "output_type": "execute_result"
    },
    {
     "data": {
      "image/png": "[encoded data removed]",
      "text/plain": [
       "<Figure size 432x288 with 1 Axes>"
      ]
     },
     "metadata": {
      "needs_background": "light"
     },
     "output_type": "display_data"
    }
   ],
   "source": [
    "plt.plot(ht,wt,'r*')"
   ]
  },
  {
   "cell_type": "code",
   "execution_count": 8,
   "id": "7f861cea",
   "metadata": {},
   "outputs": [],
   "source": [
    "# Training\n",
    "# import algorithm\n",
    "from sklearn.linear_model import LinearRegression"
   ]
  },
  {
   "cell_type": "code",
   "execution_count": 9,
   "id": "1898b8e9",
   "metadata": {},
   "outputs": [],
   "source": [
    "# lets create an object\n",
    "model = LinearRegression()"
   ]
  },
  {
   "cell_type": "code",
   "execution_count": 10,
   "id": "add4398f",
   "metadata": {},
   "outputs": [
    {
     "data": {
      "text/plain": [
       "LinearRegression()"
      ]
     },
     "execution_count": 10,
     "metadata": {},
     "output_type": "execute_result"
    }
   ],
   "source": [
    "# we do the training using fit()method\n",
    "# we need to supply input+ output to the model using fit method\n",
    "model.fit(ht,wt)"
   ]
  },
  {
   "cell_type": "code",
   "execution_count": 11,
   "id": "c1757225",
   "metadata": {},
   "outputs": [
    {
     "data": {
      "text/plain": [
       "array([[78.25252062]])"
      ]
     },
     "execution_count": 11,
     "metadata": {},
     "output_type": "execute_result"
    }
   ],
   "source": [
    "# Testing: use predict() method to get the predicted value\n",
    "ip = [[173]]\n",
    "model.predict(ip)"
   ]
  },
  {
   "cell_type": "code",
   "execution_count": 12,
   "id": "deeaf753",
   "metadata": {},
   "outputs": [
    {
     "data": {
      "text/plain": [
       "array([[42.49816682],\n",
       "       [81.62557287],\n",
       "       [35.75206233]])"
      ]
     },
     "execution_count": 12,
     "metadata": {},
     "output_type": "execute_result"
    }
   ],
   "source": [
    "n = [[120],[178],[110]]\n",
    "model.predict(n)"
   ]
  },
  {
   "cell_type": "code",
   "execution_count": null,
   "id": "3e1583e3",
   "metadata": {},
   "outputs": [],
   "source": [
    "# it uses a line equation: y(predicted_output) = m(slope)x(input) + c(intercept)"
   ]
  },
  {
   "cell_type": "code",
   "execution_count": 13,
   "id": "b05bd5c7",
   "metadata": {},
   "outputs": [
    {
     "data": {
      "text/plain": [
       "array([[0.67461045]])"
      ]
     },
     "execution_count": 13,
     "metadata": {},
     "output_type": "execute_result"
    }
   ],
   "source": [
    "# m\n",
    "model.coef_"
   ]
  },
  {
   "cell_type": "code",
   "execution_count": 14,
   "id": "cc895e6d",
   "metadata": {},
   "outputs": [
    {
     "data": {
      "text/plain": [
       "array([-38.45508708])"
      ]
     },
     "execution_count": 14,
     "metadata": {},
     "output_type": "execute_result"
    }
   ],
   "source": [
    "model.intercept_ #c"
   ]
  },
  {
   "cell_type": "code",
   "execution_count": 17,
   "id": "42c0b979",
   "metadata": {},
   "outputs": [
    {
     "data": {
      "text/plain": [
       "array([[65.43492209]])"
      ]
     },
     "execution_count": 17,
     "metadata": {},
     "output_type": "execute_result"
    }
   ],
   "source": [
    "# y  = mx + c\n",
    "model.coef_ * 154 + model.intercept_"
   ]
  },
  {
   "cell_type": "code",
   "execution_count": null,
   "id": "6b72323d",
   "metadata": {},
   "outputs": [],
   "source": []
  }
 ],
 "metadata": {
  "kernelspec": {
   "display_name": "Python 3 (ipykernel)",
   "language": "python",
   "name": "python3"
  },
  "language_info": {
   "codemirror_mode": {
    "name": "ipython",
    "version": 3
   },
   "file_extension": ".py",
   "mimetype": "text/x-python",
   "name": "python",
   "nbconvert_exporter": "python",
   "pygments_lexer": "ipython3",
   "version": "3.9.7"
  }
 },
 "nbformat": 4,
 "nbformat_minor": 5
}
